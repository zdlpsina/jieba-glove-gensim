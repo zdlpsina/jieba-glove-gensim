{
 "cells": [
  {
   "cell_type": "markdown",
   "metadata": {},
   "source": [
    "# jieba+glove+gensim"
   ]
  },
  {
   "cell_type": "markdown",
   "metadata": {},
   "source": [
    "# 1. 解压 glove-1.2 \n",
    "#### cd 到目录\n",
    "## 将分词后语聊放入目录下\n",
    "#### make\n"
   ]
  },
  {
   "cell_type": "markdown",
   "metadata": {},
   "source": [
    "# 2.\n",
    "### 生成词汇表 corpus_vocab:词 词频\n",
    "#### build/vocab_count -min-count 3 -verbose 2 < corpus.txt > corpus_vocab"
   ]
  },
  {
   "cell_type": "markdown",
   "metadata": {},
   "source": [
    "# 3. 统计共现\n",
    "\n",
    "build/cooccur -memory 4.0 -vocab-file corpus_vocab -verbose 2 -window-size 5 < corpus.txt > corpus.bin "
   ]
  },
  {
   "cell_type": "markdown",
   "metadata": {},
   "source": [
    "# 4. shuffle\n",
    " build/shuffle -memory 4.0 -verbose 2 < corpus.bin > corpus_shuff.bin "
   ]
  },
  {
   "cell_type": "markdown",
   "metadata": {},
   "source": [
    "# 5. 训练\n",
    "### 生成向量对应文件：corpus_glove.vectors.300d.txt\n",
    "build/glove -save-file corpus_glove.vectors.300d.txt -threads 8 -input-file corpus_shuff.bin -vocab-file corpus_vocab -x-max 10 -iter 5 -vector-size 300 -binary 2 -verbose 2 "
   ]
  },
  {
   "cell_type": "code",
   "execution_count": 1,
   "metadata": {},
   "outputs": [],
   "source": [
    "from gensim.test.utils import datapath, get_tmpfile\n",
    "from gensim.models import KeyedVectors\n",
    "glove_file = datapath('/home/zz/jupyter/a/corpus_glove.vectors.512d.txt.txt')\n",
    "tmp_file = get_tmpfile(\"test_word2vec.txt\")\n",
    "# call glove2word2vec script\n",
    "# default way (through CLI): python -m gensim.scripts.glove2word2vec --input <glove_file> --output <w2v_file>\n",
    "from gensim.scripts.glove2word2vec import glove2word2vec\n",
    "glove2word2vec(glove_file, tmp_file)\n",
    "model = KeyedVectors.load_word2vec_format(tmp_file)"
   ]
  },
  {
   "cell_type": "code",
   "execution_count": null,
   "metadata": {},
   "outputs": [],
   "source": [
    "#### 添加 三个符号；"
   ]
  },
  {
   "cell_type": "code",
   "execution_count": 2,
   "metadata": {},
   "outputs": [],
   "source": [
    "words=model.vocab\n",
    "with open('vocab.txt','w') as f:\n",
    "    f.write('<S>')\n",
    "    f.write('\\n')\n",
    "    f.write('</S>')\n",
    "    f.write('\\n')\n",
    "    f.write('<UNK>')\n",
    "    f.write('\\n')  \n",
    "    for word in words:\n",
    "            f.write(word)\n",
    "            f.write('\\n')"
   ]
  },
  {
   "cell_type": "code",
   "execution_count": null,
   "metadata": {},
   "outputs": [],
   "source": []
  }
 ],
 "metadata": {
  "kernelspec": {
   "display_name": "Python 3",
   "language": "python",
   "name": "python3"
  },
  "language_info": {
   "codemirror_mode": {
    "name": "ipython",
    "version": 3
   },
   "file_extension": ".py",
   "mimetype": "text/x-python",
   "name": "python",
   "nbconvert_exporter": "python",
   "pygments_lexer": "ipython3",
   "version": "3.6.6"
  }
 },
 "nbformat": 4,
 "nbformat_minor": 2
}
